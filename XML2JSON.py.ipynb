{
 "cells": [
  {
   "cell_type": "code",
   "execution_count": 9,
   "metadata": {
    "scrolled": true
   },
   "outputs": [
    {
     "name": "stdout",
     "output_type": "stream",
     "text": [
      "['Comments.xml', 'Users.xml', 'Votes.xml', 'Tags.xml', 'PostHistory.xml', 'PostLinks.xml', 'Posts.xml', 'Badges.xml']\n",
      "Comments.xml\n",
      "Working on file : Comments.xml\n",
      "Users.xml\n",
      "Working on file : Users.xml\n",
      "Votes.xml\n",
      "Working on file : Votes.xml\n",
      "Tags.xml\n",
      "Working on file : Tags.xml\n",
      "PostHistory.xml\n",
      "Working on file : PostHistory.xml\n",
      "PostLinks.xml\n",
      "Working on file : PostLinks.xml\n",
      "Posts.xml\n",
      "Working on file : Posts.xml\n",
      "Badges.xml\n",
      "Working on file : Badges.xml\n"
     ]
    }
   ],
   "source": [
    "import xmltodict, json\n",
    "import os\n",
    "\n",
    "#path to the folder holding the XML\n",
    "directory = '/Users/maitreyasatavalekar/Downloads/es.stackoverflow.com'\n",
    "\n",
    "#iterate over the XML files in the folder\n",
    "print(os.listdir(directory))\n",
    "for filename in os.listdir(directory):\n",
    "    print(filename)\n",
    "    if filename.endswith(\".xml\"):\n",
    "        with open(str(directory)+'/'+str(filename),'r') as f:\n",
    "\n",
    "            XML_content = f.read()\n",
    "\n",
    "            #parse the content of each file using xmltodict\n",
    "            x = xmltodict.parse(XML_content)\n",
    "            j = json.dumps(x)\n",
    "\n",
    "            print (\"Working on file : \"+str(filename))\n",
    "\n",
    "            filename = filename.replace('.xml', '')\n",
    "            output_file = open(filename + '.json', 'w')\n",
    "            output_file.write(j)"
   ]
  },
  {
   "cell_type": "code",
   "execution_count": null,
   "metadata": {},
   "outputs": [],
   "source": []
  }
 ],
 "metadata": {
  "kernelspec": {
   "display_name": "Python 3",
   "language": "python",
   "name": "python3"
  },
  "language_info": {
   "codemirror_mode": {
    "name": "ipython",
    "version": 3
   },
   "file_extension": ".py",
   "mimetype": "text/x-python",
   "name": "python",
   "nbconvert_exporter": "python",
   "pygments_lexer": "ipython3",
   "version": "3.7.0"
  }
 },
 "nbformat": 4,
 "nbformat_minor": 2
}
